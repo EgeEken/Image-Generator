{
 "cells": [
  {
   "cell_type": "markdown",
   "id": "2fa00f7e",
   "metadata": {},
   "source": [
    "---"
   ]
  },
  {
   "cell_type": "markdown",
   "id": "5984bac1",
   "metadata": {},
   "source": [
    "# **Sketch 2 Image Generator**\n",
    "## A deep learning model that generates realistic images of birds from hand drawn sketches. \n",
    "## GitHub Repository: [Image Generator](https://github.com/EgeEken/Image-Generator)\n",
    "### - Libraries: **PyTorch**, **Pix2Pix**, **OpenCV**\n",
    "### - MLOps: **Docker**, **MLflow**\n",
    "### - GUI: **Gradio**\n",
    "### - Dataset: [Kaggle Bird Dataset](https://www.kaggle.com/datasets/vinjamuripavan/bird-species)"
   ]
  },
  {
   "cell_type": "markdown",
   "id": "c5db00cd",
   "metadata": {},
   "source": [
    "---"
   ]
  },
  {
   "cell_type": "code",
   "execution_count": null,
   "id": "a033169f",
   "metadata": {},
   "outputs": [],
   "source": [
    "import torch"
   ]
  },
  {
   "cell_type": "code",
   "execution_count": null,
   "id": "e7d8dd55",
   "metadata": {},
   "outputs": [],
   "source": []
  }
 ],
 "metadata": {
  "kernelspec": {
   "display_name": "Python 3",
   "language": "python",
   "name": "python3"
  },
  "language_info": {
   "codemirror_mode": {
    "name": "ipython",
    "version": 3
   },
   "file_extension": ".py",
   "mimetype": "text/x-python",
   "name": "python",
   "nbconvert_exporter": "python",
   "pygments_lexer": "ipython3",
   "version": "3.13.5"
  }
 },
 "nbformat": 4,
 "nbformat_minor": 5
}
